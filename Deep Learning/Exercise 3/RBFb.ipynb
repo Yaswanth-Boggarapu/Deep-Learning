{
 "cells": [
  {
   "attachments": {},
   "cell_type": "markdown",
   "id": "5f9b16b6",
   "metadata": {},
   "source": [
    "# RBF using tensor"
   ]
  },
  {
   "cell_type": "code",
   "execution_count": 5,
   "id": "ec142519-66fa-48f9-b14f-1a8e0555533c",
   "metadata": {},
   "outputs": [],
   "source": [
    "import tensorflow as tf\n",
    "from tensorflow import keras\n",
    "from tensorflow.keras.layers import Dense\n",
    "import warnings\n",
    "warnings.filterwarnings('ignore')\n",
    "class RBFLayer(keras.layers.Layer):\n",
    "    def __init__(self,hidden_dim,s):\n",
    "        super(RBFLayer, self).__init__()\n",
    "        self.hidden_dim = hidden_dim\n",
    "        self.s = s\n",
    "        self.centers = self.add_weight(name='centers',\n",
    "                                       shape=(self.hidden_dim,10),\n",
    "                                       initializer='uniform',\n",
    "                                       trainable=True)\n",
    "    def formula(self,x,y):\n",
    "        return torch.exp(-self.s * (x - y).pow(2).sum(dim=1))\n",
    "\n",
    "    def forward(self,x):\n",
    "        a = self.formula(x, self.centers)\n",
    "        return a"
   ]
  },
  {
   "cell_type": "code",
   "execution_count": 6,
   "id": "7049e7e6-2afe-450a-9586-9aaa1e5520aa",
   "metadata": {},
   "outputs": [
    {
     "name": "stdout",
     "output_type": "stream",
     "text": [
      "Epoch 1/10\n",
      "WARNING:tensorflow:Gradients do not exist for variables ['centers:0'] when minimizing the loss. If you're using `model.compile()`, did you forget to provide a `loss` argument?\n",
      "WARNING:tensorflow:Gradients do not exist for variables ['centers:0'] when minimizing the loss. If you're using `model.compile()`, did you forget to provide a `loss` argument?\n",
      "4/4 [==============================] - 1s 6ms/step - loss: 0.7268\n",
      "Epoch 2/10\n",
      "4/4 [==============================] - 0s 5ms/step - loss: 0.7247\n",
      "Epoch 3/10\n",
      "4/4 [==============================] - 0s 5ms/step - loss: 0.7233\n",
      "Epoch 4/10\n",
      "4/4 [==============================] - 0s 8ms/step - loss: 0.7217\n",
      "Epoch 5/10\n",
      "4/4 [==============================] - 0s 8ms/step - loss: 0.7201\n",
      "Epoch 6/10\n",
      "4/4 [==============================] - 0s 9ms/step - loss: 0.7186\n",
      "Epoch 7/10\n",
      "4/4 [==============================] - 0s 7ms/step - loss: 0.7170\n",
      "Epoch 8/10\n",
      "4/4 [==============================] - 0s 7ms/step - loss: 0.7155\n",
      "Epoch 9/10\n",
      "4/4 [==============================] - 0s 5ms/step - loss: 0.7140\n",
      "Epoch 10/10\n",
      "4/4 [==============================] - 0s 6ms/step - loss: 0.7125\n"
     ]
    },
    {
     "data": {
      "text/plain": [
       "<keras.callbacks.History at 0x1c5732d3b80>"
      ]
     },
     "execution_count": 6,
     "metadata": {},
     "output_type": "execute_result"
    }
   ],
   "source": [
    "model = keras.Sequential([\n",
    "    Dense(10, input_shape=(2,), activation='relu'),\n",
    "    RBFLayer(10,0.02),\n",
    "    Dense(1, activation='sigmoid')\n",
    "])\n",
    "\n",
    "model.compile(loss='binary_crossentropy', optimizer='adam')\n",
    "\n",
    "import numpy as np\n",
    "X = np.random.randn(100, 2)\n",
    "y = (X[:, 0] * X[:, 1] > 0).astype(float)\n",
    "\n",
    "model.fit(X, y, epochs=10, batch_size=32)\n"
   ]
  }
 ],
 "metadata": {
  "kernelspec": {
   "display_name": "Python 3 (ipykernel)",
   "language": "python",
   "name": "python3"
  },
  "language_info": {
   "codemirror_mode": {
    "name": "ipython",
    "version": 3
   },
   "file_extension": ".py",
   "mimetype": "text/x-python",
   "name": "python",
   "nbconvert_exporter": "python",
   "pygments_lexer": "ipython3",
   "version": "3.9.12"
  }
 },
 "nbformat": 4,
 "nbformat_minor": 5
}
