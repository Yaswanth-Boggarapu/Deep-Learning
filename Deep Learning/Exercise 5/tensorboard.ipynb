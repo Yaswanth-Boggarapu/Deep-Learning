{
 "cells": [
  {
   "cell_type": "code",
   "execution_count": 1,
   "metadata": {},
   "outputs": [],
   "source": [
    "#Implementation Of Radial Basis Function For Images\n",
    "\n",
    "import torch\n",
    "import torch.nn as nn\n",
    "import torchvision\n",
    "import torchvision.transforms as transforms\n",
    "import torch.nn.functional as F\n",
    "import torch.optim as optim\n",
    "import numpy as np\n",
    "from torchvision import datasets"
   ]
  },
  {
   "cell_type": "code",
   "execution_count": 2,
   "metadata": {},
   "outputs": [],
   "source": [
    "transform = transforms.Compose( [transforms.ToTensor(), transforms.Normalize([0.485, 0.456, 0.406], [0.229, 0.224, 0.225])])"
   ]
  },
  {
   "cell_type": "code",
   "execution_count": 3,
   "metadata": {},
   "outputs": [
    {
     "ename": "AttributeError",
     "evalue": "module 'torch' has no attribute '_six'",
     "output_type": "error",
     "traceback": [
      "\u001b[1;31m---------------------------------------------------------------------------\u001b[0m",
      "\u001b[1;31mAttributeError\u001b[0m                            Traceback (most recent call last)",
      "\u001b[1;32mc:\\Users\\HP\\Desktop\\Taboo\\Sem VI\\LAB\\Deep Learning\\Deep-Learning\\Deep Learning\\Exercise 5\\tensorboard.ipynb Cell 3\u001b[0m in \u001b[0;36m<cell line: 1>\u001b[1;34m()\u001b[0m\n\u001b[1;32m----> <a href='vscode-notebook-cell:/c%3A/Users/HP/Desktop/Taboo/Sem%20VI/LAB/Deep%20Learning/Deep-Learning/Deep%20Learning/Exercise%205/tensorboard.ipynb#W3sZmlsZQ%3D%3D?line=0'>1</a>\u001b[0m dataset \u001b[39m=\u001b[39m datasets\u001b[39m.\u001b[39;49mImageFolder(\u001b[39m'\u001b[39;49m\u001b[39m./Dataset\u001b[39;49m\u001b[39m'\u001b[39;49m, transform\u001b[39m=\u001b[39;49mtransform)\n",
      "File \u001b[1;32mc:\\Users\\HP\\anaconda3\\lib\\site-packages\\torchvision\\datasets\\folder.py:309\u001b[0m, in \u001b[0;36mImageFolder.__init__\u001b[1;34m(self, root, transform, target_transform, loader, is_valid_file)\u001b[0m\n\u001b[0;32m    301\u001b[0m \u001b[39mdef\u001b[39;00m \u001b[39m__init__\u001b[39m(\n\u001b[0;32m    302\u001b[0m     \u001b[39mself\u001b[39m,\n\u001b[0;32m    303\u001b[0m     root: \u001b[39mstr\u001b[39m,\n\u001b[1;32m   (...)\u001b[0m\n\u001b[0;32m    307\u001b[0m     is_valid_file: Optional[Callable[[\u001b[39mstr\u001b[39m], \u001b[39mbool\u001b[39m]] \u001b[39m=\u001b[39m \u001b[39mNone\u001b[39;00m,\n\u001b[0;32m    308\u001b[0m ):\n\u001b[1;32m--> 309\u001b[0m     \u001b[39msuper\u001b[39;49m()\u001b[39m.\u001b[39;49m\u001b[39m__init__\u001b[39;49m(\n\u001b[0;32m    310\u001b[0m         root,\n\u001b[0;32m    311\u001b[0m         loader,\n\u001b[0;32m    312\u001b[0m         IMG_EXTENSIONS \u001b[39mif\u001b[39;49;00m is_valid_file \u001b[39mis\u001b[39;49;00m \u001b[39mNone\u001b[39;49;00m \u001b[39melse\u001b[39;49;00m \u001b[39mNone\u001b[39;49;00m,\n\u001b[0;32m    313\u001b[0m         transform\u001b[39m=\u001b[39;49mtransform,\n\u001b[0;32m    314\u001b[0m         target_transform\u001b[39m=\u001b[39;49mtarget_transform,\n\u001b[0;32m    315\u001b[0m         is_valid_file\u001b[39m=\u001b[39;49mis_valid_file,\n\u001b[0;32m    316\u001b[0m     )\n\u001b[0;32m    317\u001b[0m     \u001b[39mself\u001b[39m\u001b[39m.\u001b[39mimgs \u001b[39m=\u001b[39m \u001b[39mself\u001b[39m\u001b[39m.\u001b[39msamples\n",
      "File \u001b[1;32mc:\\Users\\HP\\anaconda3\\lib\\site-packages\\torchvision\\datasets\\folder.py:143\u001b[0m, in \u001b[0;36mDatasetFolder.__init__\u001b[1;34m(self, root, loader, extensions, transform, target_transform, is_valid_file)\u001b[0m\n\u001b[0;32m    134\u001b[0m \u001b[39mdef\u001b[39;00m \u001b[39m__init__\u001b[39m(\n\u001b[0;32m    135\u001b[0m     \u001b[39mself\u001b[39m,\n\u001b[0;32m    136\u001b[0m     root: \u001b[39mstr\u001b[39m,\n\u001b[1;32m   (...)\u001b[0m\n\u001b[0;32m    141\u001b[0m     is_valid_file: Optional[Callable[[\u001b[39mstr\u001b[39m], \u001b[39mbool\u001b[39m]] \u001b[39m=\u001b[39m \u001b[39mNone\u001b[39;00m,\n\u001b[0;32m    142\u001b[0m ) \u001b[39m-\u001b[39m\u001b[39m>\u001b[39m \u001b[39mNone\u001b[39;00m:\n\u001b[1;32m--> 143\u001b[0m     \u001b[39msuper\u001b[39;49m()\u001b[39m.\u001b[39;49m\u001b[39m__init__\u001b[39;49m(root, transform\u001b[39m=\u001b[39;49mtransform, target_transform\u001b[39m=\u001b[39;49mtarget_transform)\n\u001b[0;32m    144\u001b[0m     classes, class_to_idx \u001b[39m=\u001b[39m \u001b[39mself\u001b[39m\u001b[39m.\u001b[39mfind_classes(\u001b[39mself\u001b[39m\u001b[39m.\u001b[39mroot)\n\u001b[0;32m    145\u001b[0m     samples \u001b[39m=\u001b[39m \u001b[39mself\u001b[39m\u001b[39m.\u001b[39mmake_dataset(\u001b[39mself\u001b[39m\u001b[39m.\u001b[39mroot, class_to_idx, extensions, is_valid_file)\n",
      "File \u001b[1;32mc:\\Users\\HP\\anaconda3\\lib\\site-packages\\torchvision\\datasets\\vision.py:39\u001b[0m, in \u001b[0;36mVisionDataset.__init__\u001b[1;34m(self, root, transforms, transform, target_transform)\u001b[0m\n\u001b[0;32m     31\u001b[0m \u001b[39mdef\u001b[39;00m \u001b[39m__init__\u001b[39m(\n\u001b[0;32m     32\u001b[0m     \u001b[39mself\u001b[39m,\n\u001b[0;32m     33\u001b[0m     root: \u001b[39mstr\u001b[39m,\n\u001b[1;32m   (...)\u001b[0m\n\u001b[0;32m     36\u001b[0m     target_transform: Optional[Callable] \u001b[39m=\u001b[39m \u001b[39mNone\u001b[39;00m,\n\u001b[0;32m     37\u001b[0m ) \u001b[39m-\u001b[39m\u001b[39m>\u001b[39m \u001b[39mNone\u001b[39;00m:\n\u001b[0;32m     38\u001b[0m     _log_api_usage_once(\u001b[39mself\u001b[39m)\n\u001b[1;32m---> 39\u001b[0m     \u001b[39mif\u001b[39;00m \u001b[39misinstance\u001b[39m(root, torch\u001b[39m.\u001b[39;49m_six\u001b[39m.\u001b[39mstring_classes):\n\u001b[0;32m     40\u001b[0m         root \u001b[39m=\u001b[39m os\u001b[39m.\u001b[39mpath\u001b[39m.\u001b[39mexpanduser(root)\n\u001b[0;32m     41\u001b[0m     \u001b[39mself\u001b[39m\u001b[39m.\u001b[39mroot \u001b[39m=\u001b[39m root\n",
      "\u001b[1;31mAttributeError\u001b[0m: module 'torch' has no attribute '_six'"
     ]
    }
   ],
   "source": [
    "dataset = datasets.ImageFolder('./Dataset', transform=transform)"
   ]
  },
  {
   "cell_type": "code",
   "execution_count": 9,
   "metadata": {},
   "outputs": [],
   "source": [
    "trainset = torch.utils.data.DataLoader(dataset, batch_size=10, shuffle=True)"
   ]
  },
  {
   "cell_type": "code",
   "execution_count": 10,
   "metadata": {},
   "outputs": [],
   "source": [
    "class RBF(nn.Module):\n",
    "\n",
    "    def __init__(self,input_dim,output_dim,hidden_dim):\n",
    "        super().__init__()\n",
    "        self.first_layer = nn.Linear(input_dim,hidden_dim)\n",
    "        self.hidden_layer = nn.Linear(hidden_dim,output_dim)\n",
    "        self.input_dim = input_dim\n",
    "        self.hidden_dim = hidden_dim\n",
    "        self.s = 0.02\n",
    "        self.centers = nn.Parameter(torch.randn(input_dim,hidden_dim))\n",
    "\n",
    "    def formula(self,x,y):\n",
    "        return torch.exp(-self.s * (x.unsqueeze(1) - y).pow(2).sum(dim=1))\n",
    "\n",
    "    def forward(self,x):\n",
    "        x = x.view(-1, 3*600*600)\n",
    "        out1 = self.first_layer(x)\n",
    "        out3 = self.hidden_layer(out1)\n",
    "        a = self.formula(out3, self.centers)\n",
    "        return a"
   ]
  },
  {
   "cell_type": "code",
   "execution_count": 11,
   "metadata": {},
   "outputs": [
    {
     "name": "stdout",
     "output_type": "stream",
     "text": [
      "RBF(\n",
      "  (first_layer): Linear(in_features=1080000, out_features=10, bias=True)\n",
      "  (hidden_layer): Linear(in_features=10, out_features=10, bias=True)\n",
      ")\n"
     ]
    }
   ],
   "source": [
    "model = RBF(input_dim=3*600*600,output_dim=10,hidden_dim=10)\n",
    "print(model)"
   ]
  },
  {
   "cell_type": "code",
   "execution_count": 12,
   "metadata": {},
   "outputs": [
    {
     "name": "stdout",
     "output_type": "stream",
     "text": [
      "tensor(2.3026, grad_fn=<NllLossBackward0>)\n",
      "tensor(2.3026, grad_fn=<NllLossBackward0>)\n",
      "tensor(2.3026, grad_fn=<NllLossBackward0>)\n",
      "tensor(2.3026, grad_fn=<NllLossBackward0>)\n",
      "tensor(2.3026, grad_fn=<NllLossBackward0>)\n",
      "tensor(2.3026, grad_fn=<NllLossBackward0>)\n",
      "tensor(2.3026, grad_fn=<NllLossBackward0>)\n",
      "tensor(2.3026, grad_fn=<NllLossBackward0>)\n",
      "tensor(2.3026, grad_fn=<NllLossBackward0>)\n",
      "tensor(2.3026, grad_fn=<NllLossBackward0>)\n",
      "tensor(2.3026, grad_fn=<NllLossBackward0>)\n",
      "tensor(2.3026, grad_fn=<NllLossBackward0>)\n",
      "tensor(2.3026, grad_fn=<NllLossBackward0>)\n",
      "tensor(2.3026, grad_fn=<NllLossBackward0>)\n",
      "tensor(2.3026, grad_fn=<NllLossBackward0>)\n",
      "tensor(2.3026, grad_fn=<NllLossBackward0>)\n",
      "tensor(2.3026, grad_fn=<NllLossBackward0>)\n",
      "tensor(2.3026, grad_fn=<NllLossBackward0>)\n",
      "tensor(2.3026, grad_fn=<NllLossBackward0>)\n",
      "tensor(2.3026, grad_fn=<NllLossBackward0>)\n",
      "tensor(2.3026, grad_fn=<NllLossBackward0>)\n",
      "tensor(2.3026, grad_fn=<NllLossBackward0>)\n",
      "tensor(2.3026, grad_fn=<NllLossBackward0>)\n",
      "tensor(2.3026, grad_fn=<NllLossBackward0>)\n",
      "tensor(2.3026, grad_fn=<NllLossBackward0>)\n",
      "tensor(2.3026, grad_fn=<NllLossBackward0>)\n",
      "tensor(2.3026, grad_fn=<NllLossBackward0>)\n",
      "tensor(2.3026, grad_fn=<NllLossBackward0>)\n",
      "tensor(2.3026, grad_fn=<NllLossBackward0>)\n",
      "tensor(2.3026, grad_fn=<NllLossBackward0>)\n",
      "tensor(2.3026, grad_fn=<NllLossBackward0>)\n",
      "tensor(2.3026, grad_fn=<NllLossBackward0>)\n",
      "tensor(2.3026, grad_fn=<NllLossBackward0>)\n",
      "tensor(2.3026, grad_fn=<NllLossBackward0>)\n",
      "tensor(2.3026, grad_fn=<NllLossBackward0>)\n",
      "tensor(2.3026, grad_fn=<NllLossBackward0>)\n",
      "tensor(2.3026, grad_fn=<NllLossBackward0>)\n",
      "tensor(2.3026, grad_fn=<NllLossBackward0>)\n",
      "tensor(2.3026, grad_fn=<NllLossBackward0>)\n",
      "tensor(2.3026, grad_fn=<NllLossBackward0>)\n",
      "tensor(2.3026, grad_fn=<NllLossBackward0>)\n",
      "tensor(2.3026, grad_fn=<NllLossBackward0>)\n",
      "tensor(2.3026, grad_fn=<NllLossBackward0>)\n",
      "tensor(2.3026, grad_fn=<NllLossBackward0>)\n",
      "tensor(2.3026, grad_fn=<NllLossBackward0>)\n",
      "tensor(2.3026, grad_fn=<NllLossBackward0>)\n",
      "tensor(2.3026, grad_fn=<NllLossBackward0>)\n",
      "tensor(2.3026, grad_fn=<NllLossBackward0>)\n",
      "tensor(2.3026, grad_fn=<NllLossBackward0>)\n",
      "tensor(2.3026, grad_fn=<NllLossBackward0>)\n",
      "tensor(2.3026, grad_fn=<NllLossBackward0>)\n",
      "tensor(2.3026, grad_fn=<NllLossBackward0>)\n",
      "tensor(2.3026, grad_fn=<NllLossBackward0>)\n",
      "tensor(2.3026, grad_fn=<NllLossBackward0>)\n",
      "tensor(2.3026, grad_fn=<NllLossBackward0>)\n",
      "tensor(2.3026, grad_fn=<NllLossBackward0>)\n",
      "tensor(2.3026, grad_fn=<NllLossBackward0>)\n",
      "tensor(2.3026, grad_fn=<NllLossBackward0>)\n",
      "tensor(2.3026, grad_fn=<NllLossBackward0>)\n",
      "tensor(2.3026, grad_fn=<NllLossBackward0>)\n",
      "tensor(2.3026, grad_fn=<NllLossBackward0>)\n",
      "tensor(2.3026, grad_fn=<NllLossBackward0>)\n",
      "tensor(2.3026, grad_fn=<NllLossBackward0>)\n",
      "tensor(2.3026, grad_fn=<NllLossBackward0>)\n",
      "tensor(2.3026, grad_fn=<NllLossBackward0>)\n",
      "tensor(2.3026, grad_fn=<NllLossBackward0>)\n",
      "tensor(2.3026, grad_fn=<NllLossBackward0>)\n",
      "tensor(2.3026, grad_fn=<NllLossBackward0>)\n",
      "tensor(2.3026, grad_fn=<NllLossBackward0>)\n",
      "tensor(2.3026, grad_fn=<NllLossBackward0>)\n",
      "tensor(2.3026, grad_fn=<NllLossBackward0>)\n",
      "tensor(2.3026, grad_fn=<NllLossBackward0>)\n",
      "tensor(2.3026, grad_fn=<NllLossBackward0>)\n",
      "tensor(2.3026, grad_fn=<NllLossBackward0>)\n",
      "tensor(2.3026, grad_fn=<NllLossBackward0>)\n",
      "tensor(2.3026, grad_fn=<NllLossBackward0>)\n",
      "tensor(2.3026, grad_fn=<NllLossBackward0>)\n",
      "tensor(2.3026, grad_fn=<NllLossBackward0>)\n",
      "tensor(2.3026, grad_fn=<NllLossBackward0>)\n",
      "tensor(2.3026, grad_fn=<NllLossBackward0>)\n",
      "tensor(2.3026, grad_fn=<NllLossBackward0>)\n",
      "tensor(2.3026, grad_fn=<NllLossBackward0>)\n",
      "tensor(2.3026, grad_fn=<NllLossBackward0>)\n",
      "tensor(2.3026, grad_fn=<NllLossBackward0>)\n",
      "tensor(2.3026, grad_fn=<NllLossBackward0>)\n",
      "tensor(2.3026, grad_fn=<NllLossBackward0>)\n",
      "tensor(2.3026, grad_fn=<NllLossBackward0>)\n",
      "tensor(2.3026, grad_fn=<NllLossBackward0>)\n",
      "tensor(2.3026, grad_fn=<NllLossBackward0>)\n",
      "tensor(2.3026, grad_fn=<NllLossBackward0>)\n",
      "tensor(2.3026, grad_fn=<NllLossBackward0>)\n",
      "tensor(2.3026, grad_fn=<NllLossBackward0>)\n"
     ]
    }
   ],
   "source": [
    "loss_function = nn.CrossEntropyLoss()\n",
    "optimizer = optim.Adam(model.parameters(), lr=0.001)\n",
    "for epoch in range(1): \n",
    "    for data in trainset:  \n",
    "        X, y = data  \n",
    "        model.zero_grad()  \n",
    "        output = model(X.view(-1,3*600*600)) \n",
    "        loss = loss_function(output, y)  \n",
    "        loss.backward()  \n",
    "        optimizer.step() \n",
    "        print(loss)  "
   ]
  },
  {
   "cell_type": "code",
   "execution_count": 13,
   "metadata": {},
   "outputs": [],
   "source": [
    "\n",
    "from torch.utils.tensorboard import SummaryWriter\n",
    "\n",
    "# default `log_dir` is \"runs\" - we'll be more specific here\n",
    "writer = SummaryWriter()"
   ]
  },
  {
   "cell_type": "code",
   "execution_count": 14,
   "metadata": {},
   "outputs": [],
   "source": [
    "import matplotlib.pyplot as plt\n",
    "def matplotlib_imshow(img, one_channel=False):\n",
    "    if one_channel:\n",
    "        img = img.mean(dim=0)\n",
    "    img = img / 2 + 0.5     # unnormalize\n",
    "    npimg = img.numpy()\n",
    "    if one_channel:\n",
    "        plt.imshow(npimg, cmap=\"Greys\")\n",
    "    else:\n",
    "        plt.imshow(np.transpose(npimg, (1, 2, 0)))"
   ]
  },
  {
   "cell_type": "code",
   "execution_count": 15,
   "metadata": {},
   "outputs": [],
   "source": [
    "dataiter = iter(trainset)"
   ]
  },
  {
   "cell_type": "code",
   "execution_count": 16,
   "metadata": {},
   "outputs": [],
   "source": [
    "images, labels = next(dataiter)"
   ]
  },
  {
   "cell_type": "code",
   "execution_count": 17,
   "metadata": {},
   "outputs": [
    {
     "data": {
      "image/png": "[encoded data removed]",
      "text/plain": [
       "<Figure size 640x480 with 1 Axes>"
      ]
     },
     "metadata": {},
     "output_type": "display_data"
    }
   ],
   "source": [
    "import torchvision\n",
    "img_grid = torchvision.utils.make_grid(images)\n",
    "\n",
    "# show images\n",
    "matplotlib_imshow(img_grid, one_channel=True)\n",
    "\n",
    "# write to tensorboard\n",
    "writer.add_image('pisthachio_images', img_grid)"
   ]
  },
  {
   "cell_type": "code",
   "execution_count": 18,
   "metadata": {},
   "outputs": [],
   "source": [
    "writer.add_graph(model, images)\n",
    "writer.close()\n",
    "n_epochs=10\n",
    "running_loss=0.0\n"
   ]
  },
  {
   "cell_type": "code",
   "execution_count": 23,
   "metadata": {},
   "outputs": [],
   "source": [
    "criterion=nn.CrossEntropyLoss()\n"
   ]
  },
  {
   "cell_type": "code",
   "execution_count": 25,
   "metadata": {},
   "outputs": [],
   "source": [
    "for epoch in range(n_epochs):\n",
    " train_loss=0.0\n",
    " for i , datas in enumerate(trainset,0):\n",
    "    data,target=datas\n",
    "    model.train()\n",
    "    output=model(data)\n",
    "    loss=criterion(output,target)\n",
    "    loss.backward()\n",
    "    train_loss+=loss.item()*data.size(0)\n",
    " train_loss=train_loss/len(trainset.dataset)\n",
    " running_loss+=loss.item()\n",
    " writer.add_scalar('training_loss',running_loss/1000,epoch*len(trainset)+i)\n",
    " running_loss=0.0\n",
    "writer.close()\n",
    "    "
   ]
  },
  {
   "cell_type": "code",
   "execution_count": 26,
   "metadata": {},
   "outputs": [],
   "source": [
    "%load_ext tensorboard"
   ]
  },
  {
   "cell_type": "code",
   "execution_count": 27,
   "metadata": {},
   "outputs": [
    {
     "data": {
      "text/plain": [
       "Reusing TensorBoard on port 6006 (pid 27768), started 5:23:47 ago. (Use '!kill 27768' to kill it.)"
      ]
     },
     "metadata": {},
     "output_type": "display_data"
    },
    {
     "data": {
      "text/html": [
       "\n",
       "      <iframe id=\"tensorboard-frame-44d5f240300d40c2\" width=\"100%\" height=\"800\" frameborder=\"0\">\n",
       "      </iframe>\n",
       "      <script>\n",
       "        (function() {\n",
       "          const frame = document.getElementById(\"tensorboard-frame-44d5f240300d40c2\");\n",
       "          const url = new URL(\"http://localhost\");\n",
       "          const port = 6006;\n",
       "          if (port) {\n",
       "            url.port = port;\n",
       "          }\n",
       "          frame.src = url;\n",
       "        })();\n",
       "      </script>\n",
       "    "
      ],
      "text/plain": [
       "<IPython.core.display.HTML object>"
      ]
     },
     "metadata": {},
     "output_type": "display_data"
    }
   ],
   "source": [
    "%tensorboard --logdir=runs"
   ]
  }
 ],
 "metadata": {
  "kernelspec": {
   "display_name": "Python 3",
   "language": "python",
   "name": "python3"
  },
  "language_info": {
   "codemirror_mode": {
    "name": "ipython",
    "version": 3
   },
   "file_extension": ".py",
   "mimetype": "text/x-python",
   "name": "python",
   "nbconvert_exporter": "python",
   "pygments_lexer": "ipython3",
   "version": "3.9.12"
  },
  "orig_nbformat": 4,
  "vscode": {
   "interpreter": {
    "hash": "618f2e2b772838f75e5c01a97852e682d6b539044a384bb98febe15f1dfd79d8"
   }
  }
 },
 "nbformat": 4,
 "nbformat_minor": 2
}
