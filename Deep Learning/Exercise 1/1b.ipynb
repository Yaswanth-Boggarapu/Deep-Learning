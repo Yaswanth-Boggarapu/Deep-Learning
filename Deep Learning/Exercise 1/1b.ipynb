{
 "cells": [
  {
   "cell_type": "code",
   "execution_count": 1,
   "metadata": {},
   "outputs": [],
   "source": [
    "import torch\n",
    "from torch.autograd import Variable"
   ]
  },
  {
   "cell_type": "code",
   "execution_count": 2,
   "metadata": {},
   "outputs": [],
   "source": [
    "x=torch.tensor(2.0,requires_grad=True)\n",
    "y=9*x**4+2*x**3+3*x**2+6*x+1"
   ]
  },
  {
   "cell_type": "code",
   "execution_count": 3,
   "metadata": {},
   "outputs": [],
   "source": [
    "y.backward()"
   ]
  },
  {
   "cell_type": "code",
   "execution_count": 4,
   "metadata": {},
   "outputs": [
    {
     "name": "stdout",
     "output_type": "stream",
     "text": [
      "tensor(185., grad_fn=<AddBackward0>)\n",
      "tensor(330.)\n"
     ]
    }
   ],
   "source": [
    "print(y)\n",
    "print(x.grad)"
   ]
  },
  {
   "cell_type": "code",
   "execution_count": 5,
   "metadata": {},
   "outputs": [],
   "source": [
    "a=torch.tensor(5.0,requires_grad=True)\n",
    "b=torch.tensor(3.0,requires_grad=True)"
   ]
  },
  {
   "cell_type": "code",
   "execution_count": 6,
   "metadata": {},
   "outputs": [
    {
     "name": "stdout",
     "output_type": "stream",
     "text": [
      "True\n",
      "tensor(13.5000)\n"
     ]
    }
   ],
   "source": [
    "y=(b**3)/2*a+3\n",
    "print(y.requires_grad)\n",
    "y.backward()\n",
    "print(a.grad.data)\n"
   ]
  },
  {
   "cell_type": "code",
   "execution_count": 7,
   "metadata": {},
   "outputs": [
    {
     "name": "stdout",
     "output_type": "stream",
     "text": [
      "True\n",
      "tensor(1942.5000)\n"
     ]
    }
   ],
   "source": [
    "z=(a**4)*(2*b+b)\n",
    "print(z.requires_grad)\n",
    "z.backward()\n",
    "print(b.grad.data)"
   ]
  }
 ],
 "metadata": {
  "kernelspec": {
   "display_name": "Python 3",
   "language": "python",
   "name": "python3"
  },
  "language_info": {
   "codemirror_mode": {
    "name": "ipython",
    "version": 3
   },
   "file_extension": ".py",
   "mimetype": "text/x-python",
   "name": "python",
   "nbconvert_exporter": "python",
   "pygments_lexer": "ipython3",
   "version": "3.9.9 (tags/v3.9.9:ccb0e6a, Nov 15 2021, 18:08:50) [MSC v.1929 64 bit (AMD64)]"
  },
  "orig_nbformat": 4,
  "vscode": {
   "interpreter": {
    "hash": "79ef70f7b5135845b00effb205b4f155312e1e1231571586526197b02bd55c4d"
   }
  }
 },
 "nbformat": 4,
 "nbformat_minor": 2
}
