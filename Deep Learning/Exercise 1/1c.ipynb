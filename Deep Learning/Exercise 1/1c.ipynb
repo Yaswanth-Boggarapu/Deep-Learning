{
 "cells": [
  {
   "cell_type": "code",
   "execution_count": 1,
   "metadata": {},
   "outputs": [],
   "source": [
    "\n",
    "import numpy as np\n",
    "import torch"
   ]
  },
  {
   "cell_type": "code",
   "execution_count": 2,
   "metadata": {},
   "outputs": [],
   "source": [
    "def activation(out,threshold):\n",
    "    if out>threshold:\n",
    "        return 1\n",
    "    else:\n",
    "        return -1"
   ]
  },
  {
   "cell_type": "code",
   "execution_count": 3,
   "metadata": {},
   "outputs": [],
   "source": [
    "def perceptron(and_input):\n",
    "    a=[-1,-1,1,1]\n",
    "    b=[-1,1,-1,1]\n",
    "    y=[-1,-1,-1,1]\n",
    "    w=[0.1,0.1]\n",
    "    bias=0.4\n",
    "    threshold=1\n",
    "    learning_rate = 0.5\n",
    "    i=0\n",
    "    print(\"Perceptron Training:\")\n",
    "    while i<4:\n",
    "        summation= bias+a[i]*w[0]+b[i]*w[1]\n",
    "        o=activation(summation,threshold)\n",
    "        print(\"Input:\"+str(a[i])+\",\"+str(b[i]))\n",
    "        print(\"Weights:\"+str(w[0])+\",\"+str(w[1]))\n",
    "        print(\"Bias:\"+ str(bias))\n",
    "        print(\"summation:\"+str(summation)+\"\\n\"+\"threshold\"+\" \"+str(threshold))\n",
    "        print(\"Actual Output:\"+str(y[i])+\"Predicted Output\"+str(o))\n",
    "        if(o!=y):\n",
    "            #w=w+leaening_rate(actual_output - predicted_output)*input\n",
    "            #bias = bias(actual_output-predicted)*t\n",
    "            print(\"__________\\n Updating Weights and Bias\")\n",
    "            w[0]=w[0]+learning_rate*(y[i]-0)*a[i]\n",
    "            w[1]=w[1]+learning_rate*(y[i]-0)*b[i]\n",
    "            bias = bias+learning_rate*(y[i]-0)*bias\n",
    "            print(\"Updated Weights:\"+str(w[0])+\",\"+str(w[1]))\n",
    "            print(\"Updated Bias\")\n",
    "            print(bias)\n",
    "            #i=-1\n",
    "            #print(\"\\n Weights Updates Training Again:\")\n",
    "        i=i+1\n",
    "    summation=and_input[0]*w[0]+and_input[1]*w[1]+bias\n",
    "\n",
    "\n"
   ]
  },
  {
   "cell_type": "code",
   "execution_count": 4,
   "metadata": {},
   "outputs": [
    {
     "name": "stdout",
     "output_type": "stream",
     "text": [
      "Perceptron Training:\n",
      "Input:-1,-1\n",
      "Weights:0.1,0.1\n",
      "Bias:0.4\n",
      "summation:0.20000000000000004\n",
      "threshold 1\n",
      "Actual Output:-1Predicted Output-1\n",
      "__________\n",
      " Updating Weights and Bias\n",
      "Updated Weights:0.6,0.6\n",
      "Updated Bias\n",
      "0.2\n",
      "Input:-1,1\n",
      "Weights:0.6,0.6\n",
      "Bias:0.2\n",
      "summation:0.2\n",
      "threshold 1\n",
      "Actual Output:-1Predicted Output-1\n",
      "__________\n",
      " Updating Weights and Bias\n",
      "Updated Weights:1.1,0.09999999999999998\n",
      "Updated Bias\n",
      "0.1\n",
      "Input:1,-1\n",
      "Weights:1.1,0.09999999999999998\n",
      "Bias:0.1\n",
      "summation:1.1\n",
      "threshold 1\n",
      "Actual Output:-1Predicted Output1\n",
      "__________\n",
      " Updating Weights and Bias\n",
      "Updated Weights:0.6000000000000001,0.6\n",
      "Updated Bias\n",
      "0.05\n",
      "Input:1,1\n",
      "Weights:0.6000000000000001,0.6\n",
      "Bias:0.05\n",
      "summation:1.25\n",
      "threshold 1\n",
      "Actual Output:1Predicted Output1\n",
      "__________\n",
      " Updating Weights and Bias\n",
      "Updated Weights:1.1,1.1\n",
      "Updated Bias\n",
      "0.07500000000000001\n",
      "AND GATE OUTPUT FOR[-1, 1]:None\n"
     ]
    }
   ],
   "source": [
    "and_input=[-1,1]\n",
    "print(\"AND GATE OUTPUT FOR\"+str(and_input)+\":\"+str(perceptron(and_input)))"
   ]
  }
 ],
 "metadata": {
  "kernelspec": {
   "display_name": "Python 3",
   "language": "python",
   "name": "python3"
  },
  "language_info": {
   "codemirror_mode": {
    "name": "ipython",
    "version": 3
   },
   "file_extension": ".py",
   "mimetype": "text/x-python",
   "name": "python",
   "nbconvert_exporter": "python",
   "pygments_lexer": "ipython3",
   "version": "3.9.9 (tags/v3.9.9:ccb0e6a, Nov 15 2021, 18:08:50) [MSC v.1929 64 bit (AMD64)]"
  },
  "orig_nbformat": 4,
  "vscode": {
   "interpreter": {
    "hash": "79ef70f7b5135845b00effb205b4f155312e1e1231571586526197b02bd55c4d"
   }
  }
 },
 "nbformat": 4,
 "nbformat_minor": 2
}
