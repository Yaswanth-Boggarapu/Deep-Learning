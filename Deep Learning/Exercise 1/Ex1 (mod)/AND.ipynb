{
 "cells": [
  {
   "cell_type": "code",
   "execution_count": 1,
   "metadata": {},
   "outputs": [
    {
     "name": "stdout",
     "output_type": "stream",
     "text": [
      "Requirement already satisfied: torch in c:\\users\\sairam\\anaconda3\\lib\\site-packages (1.13.1)Note: you may need to restart the kernel to use updated packages.\n"
     ]
    },
    {
     "name": "stderr",
     "output_type": "stream",
     "text": [
      "\n",
      "[notice] A new release of pip available: 22.3 -> 22.3.1\n",
      "[notice] To update, run: python.exe -m pip install --upgrade pip\n"
     ]
    },
    {
     "name": "stdout",
     "output_type": "stream",
     "text": [
      "\n",
      "Requirement already satisfied: typing-extensions in c:\\users\\sairam\\anaconda3\\lib\\site-packages (from torch) (3.10.0.2)\n"
     ]
    }
   ],
   "source": [
    "pip install torch"
   ]
  },
  {
   "cell_type": "code",
   "execution_count": 2,
   "metadata": {},
   "outputs": [],
   "source": [
    "\n",
    "import numpy as np\n",
    "import matplotlib.pyplot as plt\n",
    "import torch\n",
    "import tensorflow as tf"
   ]
  },
  {
   "cell_type": "code",
   "execution_count": 3,
   "metadata": {},
   "outputs": [],
   "source": [
    "def activation(out,threshold):\n",
    "    if out>threshold:\n",
    "        return 1\n",
    "    else:\n",
    "        return -1"
   ]
  },
  {
   "cell_type": "code",
   "execution_count": 4,
   "metadata": {},
   "outputs": [],
   "source": [
    "def perceptron(and_input):\n",
    "    a=[-1,-1,1,1]\n",
    "    b=[-1,1,-1,1]\n",
    "    y=[-1,-1,-1,1]\n",
    "    w=[0.1,0.1]\n",
    "    threshold=1\n",
    "    learning_rate = 0.5\n",
    "    i=0\n",
    "    print(\"Perceptron Training:\")\n",
    "    while i<4:\n",
    "        summation=a[i]*w[0]+b[i]*w[1]\n",
    "        o=activation(summation,threshold)\n",
    "        print(\"Input:\"+str(a[i])+\",\"+str(b[i]))\n",
    "        print(\"Weights:\"+str(w[0])+\",\"+str(w[1]))\n",
    "        print(\"summation:\"+str(summation)+\"\\n\"+\"threshold\"+\" \"+str(threshold))\n",
    "        print(\"Actual Output:\"+str(y[i])+\"Predicted Output\"+str(o))\n",
    "        if(o!=y):\n",
    "            #w=w+leaening_rate(actual_output - predicted_output)*input\n",
    "            print(\"__________\\n Updating Weights\")\n",
    "            w[0]=w[0]+learning_rate*(y[i]-0)*a[i]\n",
    "            w[1]=w[1]+learning_rate*(y[i]-0)*b[i]\n",
    "            print(\"Updated Weights:\"+str(w[0])+\",\"+str(w[1]))\n",
    "            #i=-1\n",
    "            #print(\"\\n Weights Updates Training Again:\")\n",
    "        i=i+1\n",
    "    summation=and_input[0]*w[0]+and_input[1]*w[1]   \n",
    "\n",
    "\n"
   ]
  },
  {
   "cell_type": "code",
   "execution_count": 5,
   "metadata": {},
   "outputs": [
    {
     "name": "stdout",
     "output_type": "stream",
     "text": [
      "Perceptron Training:\n",
      "Input:-1,-1\n",
      "Weights:0.1,0.1\n",
      "summation:-0.2\n",
      "threshold 1\n",
      "Actual Output:-1Predicted Output-1\n",
      "__________\n",
      " Updating Weights\n",
      "Updated Weights:0.6,0.6\n",
      "Input:-1,1\n",
      "Weights:0.6,0.6\n",
      "summation:0.0\n",
      "threshold 1\n",
      "Actual Output:-1Predicted Output-1\n",
      "__________\n",
      " Updating Weights\n",
      "Updated Weights:1.1,0.09999999999999998\n",
      "Input:1,-1\n",
      "Weights:1.1,0.09999999999999998\n",
      "summation:1.0\n",
      "threshold 1\n",
      "Actual Output:-1Predicted Output-1\n",
      "__________\n",
      " Updating Weights\n",
      "Updated Weights:0.6000000000000001,0.6\n",
      "Input:1,1\n",
      "Weights:0.6000000000000001,0.6\n",
      "summation:1.2000000000000002\n",
      "threshold 1\n",
      "Actual Output:1Predicted Output1\n",
      "__________\n",
      " Updating Weights\n",
      "Updated Weights:1.1,1.1\n",
      "AND GATE OUTPUT FOR[-1, 1]:None\n"
     ]
    }
   ],
   "source": [
    "and_input=[-1,1]\n",
    "print(\"AND GATE OUTPUT FOR\"+str(and_input)+\":\"+str(perceptron(and_input)))"
   ]
  },
  {
   "cell_type": "code",
   "execution_count": null,
   "metadata": {},
   "outputs": [],
   "source": []
  },
  {
   "cell_type": "code",
   "execution_count": null,
   "metadata": {},
   "outputs": [],
   "source": []
  },
  {
   "cell_type": "code",
   "execution_count": null,
   "metadata": {},
   "outputs": [],
   "source": []
  },
  {
   "cell_type": "code",
   "execution_count": null,
   "metadata": {},
   "outputs": [],
   "source": []
  },
  {
   "cell_type": "code",
   "execution_count": null,
   "metadata": {},
   "outputs": [],
   "source": []
  }
 ],
 "metadata": {
  "kernelspec": {
   "display_name": "base",
   "language": "python",
   "name": "python3"
  },
  "language_info": {
   "codemirror_mode": {
    "name": "ipython",
    "version": 3
   },
   "file_extension": ".py",
   "mimetype": "text/x-python",
   "name": "python",
   "nbconvert_exporter": "python",
   "pygments_lexer": "ipython3",
   "version": "3.9.7 (default, Sep 16 2021, 16:59:28) [MSC v.1916 64 bit (AMD64)]"
  },
  "orig_nbformat": 4,
  "vscode": {
   "interpreter": {
    "hash": "20283fe50569640ce6993bbef4448865d80db8d227d78093b0242749fcc5e74d"
   }
  }
 },
 "nbformat": 4,
 "nbformat_minor": 2
}
