{
 "cells": [
  {
   "cell_type": "code",
   "execution_count": 1,
   "metadata": {},
   "outputs": [
    {
     "name": "stdout",
     "output_type": "stream",
     "text": [
      "Is the GPU available? False\n"
     ]
    }
   ],
   "source": [
    "import torch\n",
    "#check GPU availability\n",
    "gpu_avail = torch.cuda.is_available()\n",
    "print(f\"Is the GPU available? {gpu_avail}\")"
   ]
  },
  {
   "cell_type": "code",
   "execution_count": 2,
   "metadata": {},
   "outputs": [
    {
     "name": "stdout",
     "output_type": "stream",
     "text": [
      "Device cpu\n"
     ]
    }
   ],
   "source": [
    "device = torch.device(\"cuda\") if torch.cuda.is_available() else torch.device(\"cpu\")\n",
    "print(\"Device\", device)"
   ]
  },
  {
   "cell_type": "code",
   "execution_count": 3,
   "metadata": {},
   "outputs": [],
   "source": [
    "a = torch.rand(2,2)\n",
    "b = torch.rand(2,2)"
   ]
  },
  {
   "cell_type": "code",
   "execution_count": 4,
   "metadata": {},
   "outputs": [
    {
     "name": "stdout",
     "output_type": "stream",
     "text": [
      "tensor([[1.1485, 1.7811],\n",
      "        [0.6971, 0.6029]])\n"
     ]
    }
   ],
   "source": [
    "c = a+b\n",
    "print(c)"
   ]
  },
  {
   "cell_type": "code",
   "execution_count": 5,
   "metadata": {},
   "outputs": [
    {
     "name": "stdout",
     "output_type": "stream",
     "text": [
      "tensor([[1.1485, 1.7811],\n",
      "        [0.6971, 0.6029]])\n"
     ]
    }
   ],
   "source": [
    "d = torch.add(a,b)\n",
    "print(d)"
   ]
  },
  {
   "cell_type": "code",
   "execution_count": 10,
   "metadata": {},
   "outputs": [
    {
     "data": {
      "text/plain": [
       "tensor([[19.8458, 19.9746],\n",
       "        [19.6364, 19.0467]])"
      ]
     },
     "execution_count": 10,
     "metadata": {},
     "output_type": "execute_result"
    }
   ],
   "source": [
    "a.add_(1)"
   ]
  },
  {
   "cell_type": "code",
   "execution_count": 11,
   "metadata": {},
   "outputs": [
    {
     "name": "stdout",
     "output_type": "stream",
     "text": [
      "tensor([[ 6.0085, 16.1099],\n",
      "        [ 1.1931, 10.5934]])\n"
     ]
    }
   ],
   "source": [
    "print(a*b)"
   ]
  },
  {
   "cell_type": "code",
   "execution_count": 12,
   "metadata": {},
   "outputs": [
    {
     "data": {
      "text/plain": [
       "tensor([[ 6.0085, 16.1099],\n",
       "        [ 1.1931, 10.5934]])"
      ]
     },
     "execution_count": 12,
     "metadata": {},
     "output_type": "execute_result"
    }
   ],
   "source": [
    "a.mul(b)"
   ]
  },
  {
   "cell_type": "code",
   "execution_count": 14,
   "metadata": {},
   "outputs": [
    {
     "data": {
      "text/plain": [
       "tensor([[1.9511, 1.5151, 1.8198, 2.0944, 1.6413, 1.0410, 2.3846, 2.3947, 2.6045,\n",
       "         2.3223],\n",
       "        [1.6936, 1.3180, 1.7435, 2.1687, 2.0877, 1.2509, 2.1500, 2.3969, 2.3915,\n",
       "         2.2954],\n",
       "        [2.9972, 2.2464, 2.5630, 2.9003, 2.3205, 1.7989, 2.7582, 2.9367, 3.0301,\n",
       "         3.3997],\n",
       "        [2.8439, 2.3823, 3.2149, 3.5516, 2.9222, 2.3081, 3.1768, 3.5114, 3.5044,\n",
       "         3.7183],\n",
       "        [2.5516, 2.6006, 2.5805, 2.2055, 2.1392, 2.0443, 2.8390, 2.7164, 2.6137,\n",
       "         3.6044],\n",
       "        [2.7379, 2.6982, 2.8974, 2.3379, 2.5519, 2.3102, 3.5474, 3.0394, 3.2631,\n",
       "         3.8310],\n",
       "        [2.7268, 2.0028, 2.2796, 2.6423, 2.7096, 2.2561, 2.6562, 2.8209, 2.5406,\n",
       "         3.3295],\n",
       "        [1.9846, 2.0062, 2.0990, 1.7909, 2.3995, 1.9070, 2.5756, 2.3590, 2.3192,\n",
       "         2.9604],\n",
       "        [2.5124, 2.5211, 2.9483, 2.6946, 3.1372, 2.4576, 3.4030, 3.3137, 3.3304,\n",
       "         3.8113],\n",
       "        [2.5804, 2.3415, 2.9751, 2.5996, 2.4636, 2.2270, 3.4207, 2.9245, 3.2528,\n",
       "         3.6794]])"
      ]
     },
     "execution_count": 14,
     "metadata": {},
     "output_type": "execute_result"
    }
   ],
   "source": [
    "x = torch.rand(10,10)\n",
    "y = torch.rand(10,10)\n",
    "x.matmul(y)"
   ]
  },
  {
   "cell_type": "code",
   "execution_count": 15,
   "metadata": {},
   "outputs": [],
   "source": [
    "import numpy as np"
   ]
  },
  {
   "cell_type": "code",
   "execution_count": 16,
   "metadata": {},
   "outputs": [],
   "source": [
    "l = [1,2,3,4,5]\n",
    "m = np.array(l)"
   ]
  },
  {
   "cell_type": "code",
   "execution_count": 18,
   "metadata": {},
   "outputs": [
    {
     "name": "stdout",
     "output_type": "stream",
     "text": [
      "[1, 2, 3, 4, 5]\n"
     ]
    }
   ],
   "source": [
    "arr = torch.from_numpy(m)\n",
    "print(l)"
   ]
  },
  {
   "cell_type": "code",
   "execution_count": 19,
   "metadata": {},
   "outputs": [
    {
     "data": {
      "text/plain": [
       "array([1, 2, 3, 4, 5])"
      ]
     },
     "execution_count": 19,
     "metadata": {},
     "output_type": "execute_result"
    }
   ],
   "source": [
    "m"
   ]
  },
  {
   "cell_type": "code",
   "execution_count": 20,
   "metadata": {},
   "outputs": [
    {
     "name": "stdout",
     "output_type": "stream",
     "text": [
      "tensor([[0., 0., 0.],\n",
      "        [0., 0., 0.]], dtype=torch.float64)\n"
     ]
    }
   ],
   "source": [
    "f=torch.zeros(2,3,dtype=torch.float64)\n",
    "print(f)"
   ]
  },
  {
   "cell_type": "code",
   "execution_count": 21,
   "metadata": {},
   "outputs": [
    {
     "name": "stdout",
     "output_type": "stream",
     "text": [
      "tensor([ 6.,  8., 10.])\n"
     ]
    }
   ],
   "source": [
    "n=torch.tensor([5,6,7],dtype=torch.float)\n",
    "o=torch.tensor([1,2,3],dtype=torch.float)\n",
    "print(n+o)"
   ]
  },
  {
   "cell_type": "code",
   "execution_count": 23,
   "metadata": {},
   "outputs": [
    {
     "name": "stdout",
     "output_type": "stream",
     "text": [
      "tensor([ 6.,  8., 10.])\n"
     ]
    },
    {
     "name": "stderr",
     "output_type": "stream",
     "text": [
      "C:\\Users\\HP\\AppData\\Local\\Temp\\ipykernel_8344\\3997074359.py:1: UserWarning: An output with one or more elements was resized since it had shape [2, 2], which does not match the required output shape [3]. This behavior is deprecated, and in a future PyTorch release outputs will not be resized unless they have zero elements. You can explicitly reuse an out tensor t by resizing it, inplace, to zero elements with t.resize_(0). (Triggered internally at C:\\actions-runner\\_work\\pytorch\\pytorch\\builder\\windows\\pytorch\\aten\\src\\ATen\\native\\Resize.cpp:24.)\n",
      "  torch.add(o,n,out=c)\n"
     ]
    }
   ],
   "source": [
    "torch.add(o,n,out=c)\n",
    "print(c)"
   ]
  },
  {
   "cell_type": "code",
   "execution_count": 24,
   "metadata": {},
   "outputs": [
    {
     "data": {
      "text/plain": [
       "tensor(24.)"
      ]
     },
     "execution_count": 24,
     "metadata": {},
     "output_type": "execute_result"
    }
   ],
   "source": [
    "torch.add(n,o).sum()"
   ]
  },
  {
   "cell_type": "code",
   "execution_count": null,
   "metadata": {},
   "outputs": [],
   "source": []
  }
 ],
 "metadata": {
  "kernelspec": {
   "display_name": "Python 3.9.12 ('base')",
   "language": "python",
   "name": "python3"
  },
  "language_info": {
   "codemirror_mode": {
    "name": "ipython",
    "version": 3
   },
   "file_extension": ".py",
   "mimetype": "text/x-python",
   "name": "python",
   "nbconvert_exporter": "python",
   "pygments_lexer": "ipython3",
   "version": "3.9.12 (main, Apr  4 2022, 05:22:27) [MSC v.1916 64 bit (AMD64)]"
  },
  "orig_nbformat": 4,
  "vscode": {
   "interpreter": {
    "hash": "dc07d24e2f18896857f0b2a651fe84ba40ce7b297e58d8804a308c8039f752a6"
   }
  }
 },
 "nbformat": 4,
 "nbformat_minor": 2
}
