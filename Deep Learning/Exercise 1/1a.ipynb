{
 "cells": [
  {
   "cell_type": "code",
   "execution_count": 1,
   "metadata": {},
   "outputs": [],
   "source": [
    "import torch"
   ]
  },
  {
   "cell_type": "code",
   "execution_count": 24,
   "metadata": {},
   "outputs": [
    {
     "name": "stderr",
     "output_type": "stream",
     "text": [
      "C:\\Users\\dllab.DLL-038\\AppData\\Local\\Temp\\ipykernel_1684\\2597801174.py:5: UserWarning: To copy construct from a tensor, it is recommended to use sourceTensor.clone().detach() or sourceTensor.clone().detach().requires_grad_(True), rather than torch.tensor(sourceTensor).\n",
      "  t3=torch.tensor(t3,dtype=torch.int)\n"
     ]
    },
    {
     "data": {
      "text/plain": [
       "tensor([[2, 6],\n",
       "        [8, 9],\n",
       "        [9, 4]], dtype=torch.int32)"
      ]
     },
     "execution_count": 24,
     "metadata": {},
     "output_type": "execute_result"
    }
   ],
   "source": [
    "# matrix\n",
    "t3 = torch.tensor([[2, 6], \n",
    "                   [8, 9], \n",
    "                   [9, 4]])                   \n",
    "t3=torch.tensor(t3,dtype=torch.int)\n",
    "t3"
   ]
  },
  {
   "cell_type": "code",
   "execution_count": 25,
   "metadata": {},
   "outputs": [
    {
     "name": "stderr",
     "output_type": "stream",
     "text": [
      "C:\\Users\\dllab.DLL-038\\AppData\\Local\\Temp\\ipykernel_1684\\2549640077.py:4: UserWarning: To copy construct from a tensor, it is recommended to use sourceTensor.clone().detach() or sourceTensor.clone().detach().requires_grad_(True), rather than torch.tensor(sourceTensor).\n",
      "  t4=torch.tensor(t4,dtype=torch.int)\n"
     ]
    },
    {
     "data": {
      "text/plain": [
       "tensor([[9, 9, 8],\n",
       "        [2, 6, 9]], dtype=torch.int32)"
      ]
     },
     "execution_count": 25,
     "metadata": {},
     "output_type": "execute_result"
    }
   ],
   "source": [
    "t4= torch.tensor([[9,9,8], \n",
    "                   [2,6,9]]\n",
    "                   )\n",
    "t4=torch.tensor(t4,dtype=torch.int)                   \n",
    "t4"
   ]
  },
  {
   "cell_type": "code",
   "execution_count": 27,
   "metadata": {},
   "outputs": [],
   "source": [
    "t5=[[0,0,0],[0,0,0],[0,0,0]]\n",
    "t5=torch.tensor(t5,dtype=torch.int)"
   ]
  },
  {
   "cell_type": "code",
   "execution_count": 28,
   "metadata": {},
   "outputs": [],
   "source": [
    "for i in range(len(a)):\n",
    "    for j in range (len(b[0])):\n",
    "        for k in range (len(b)):\n",
    "            t5[i][j]+= t3[i][k]*t4[k][j]"
   ]
  },
  {
   "cell_type": "code",
   "execution_count": 29,
   "metadata": {},
   "outputs": [
    {
     "data": {
      "text/plain": [
       "tensor([[ 30,  54,  70],\n",
       "        [ 90, 126, 145],\n",
       "        [ 89, 105, 108]], dtype=torch.int32)"
      ]
     },
     "execution_count": 29,
     "metadata": {},
     "output_type": "execute_result"
    }
   ],
   "source": [
    "t5"
   ]
  },
  {
   "cell_type": "code",
   "execution_count": 31,
   "metadata": {},
   "outputs": [
    {
     "data": {
      "text/plain": [
       "tensor([[1, 0, 1],\n",
       "        [0, 1, 1],\n",
       "        [1, 1, 1]], dtype=torch.int32)"
      ]
     },
     "execution_count": 31,
     "metadata": {},
     "output_type": "execute_result"
    }
   ],
   "source": [
    "#inverse of matrix\n",
    "A=[[1,0,1],[0,1,1],[1,1,1]]\n",
    "A=torch.tensor(A,dtype=torch.int)\n",
    "A"
   ]
  },
  {
   "cell_type": "code",
   "execution_count": 32,
   "metadata": {},
   "outputs": [
    {
     "data": {
      "text/plain": [
       "3"
      ]
     },
     "execution_count": 32,
     "metadata": {},
     "output_type": "execute_result"
    }
   ],
   "source": [
    "f,h=A.shape\n",
    "f\n"
   ]
  },
  {
   "cell_type": "code",
   "execution_count": 33,
   "metadata": {},
   "outputs": [],
   "source": [
    "import numpy as np"
   ]
  },
  {
   "cell_type": "code",
   "execution_count": 34,
   "metadata": {},
   "outputs": [],
   "source": [
    "I = np.identity(n=f)\n",
    "I=torch.tensor(I,dtype=torch.int)"
   ]
  },
  {
   "cell_type": "code",
   "execution_count": 35,
   "metadata": {},
   "outputs": [
    {
     "data": {
      "text/plain": [
       "tensor([[1, 0, 1, 1, 0, 0],\n",
       "        [0, 1, 1, 0, 1, 0],\n",
       "        [1, 1, 1, 0, 0, 1]], dtype=torch.int32)"
      ]
     },
     "execution_count": 35,
     "metadata": {},
     "output_type": "execute_result"
    }
   ],
   "source": [
    "M = np.concatenate((A,I),axis=1)\n",
    "M=torch.tensor(M,dtype=torch.int)\n",
    "M"
   ]
  },
  {
   "cell_type": "code",
   "execution_count": 37,
   "metadata": {},
   "outputs": [
    {
     "data": {
      "text/plain": [
       "tensor([[ 0, -1,  1],\n",
       "        [-1,  0,  1],\n",
       "        [ 1,  1, -1]], dtype=torch.int32)"
      ]
     },
     "execution_count": 37,
     "metadata": {},
     "output_type": "execute_result"
    }
   ],
   "source": [
    "for i in range (0,f):\n",
    "    pivot = M[i][i]\n",
    "    row =M[i]\n",
    "    M[i] = row / pivot\n",
    "    for j in [k for k in range(0,f) if k!=i]:\n",
    "        M[j] = M[j]-M[i]*M[j][i]\n",
    "    inverse = M[:,f:]\n",
    "\n",
    "inverse"
   ]
  }
 ],
 "metadata": {
  "kernelspec": {
   "display_name": "Python 3",
   "language": "python",
   "name": "python3"
  },
  "language_info": {
   "codemirror_mode": {
    "name": "ipython",
    "version": 3
   },
   "file_extension": ".py",
   "mimetype": "text/x-python",
   "name": "python",
   "nbconvert_exporter": "python",
   "pygments_lexer": "ipython3",
   "version": "3.9.9 (tags/v3.9.9:ccb0e6a, Nov 15 2021, 18:08:50) [MSC v.1929 64 bit (AMD64)]"
  },
  "orig_nbformat": 4,
  "vscode": {
   "interpreter": {
    "hash": "79ef70f7b5135845b00effb205b4f155312e1e1231571586526197b02bd55c4d"
   }
  }
 },
 "nbformat": 4,
 "nbformat_minor": 2
}
