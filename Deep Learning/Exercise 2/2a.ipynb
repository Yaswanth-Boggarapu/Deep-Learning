{
 "cells": [
  {
   "cell_type": "code",
   "execution_count": 2,
   "metadata": {},
   "outputs": [],
   "source": [
    "import torch\n",
    "from torch import Tensor\n",
    "from torch.nn import Linear, MSELoss, functional as F\n",
    "from torch.optim import SGD, Adam, RMSprop\n",
    "from torch.autograd import Variable\n",
    "import numpy as np"
   ]
  },
  {
   "cell_type": "code",
   "execution_count": 3,
   "metadata": {},
   "outputs": [],
   "source": [
    "def data_generator(data_size=50):\n",
    "    inputs = []\n",
    "    labels = []\n",
    "    for ix in range(data_size):        \n",
    "        x = np.random.randint(1000) / 1000\n",
    "        y = 7*(x*x*x) + 8*x+ 2\n",
    "        inputs.append([x])\n",
    "        labels.append([y])\n",
    "        \n",
    "    return inputs, labels"
   ]
  },
  {
   "cell_type": "code",
   "execution_count": 4,
   "metadata": {},
   "outputs": [],
   "source": [
    "class Net(torch.nn.Module):\n",
    "    def __init__(self):\n",
    "        super(Net, self).__init__()\n",
    "        self.fc1 = Linear(1, 6)\n",
    "        self.fc3 = Linear(6, 1)\n",
    "        \n",
    "    def forward(self, x):\n",
    "        x = F.relu(self.fc1(x))\n",
    "        x = self.fc3(x)\n",
    "        return x   \n",
    "model = Net()"
   ]
  },
  {
   "cell_type": "code",
   "execution_count": 5,
   "metadata": {},
   "outputs": [],
   "source": [
    "critereon = MSELoss()\n",
    "optimizer = SGD(model.parameters(), lr=0.01)\n",
    "\n",
    "nb_epochs = 70\n",
    "data_size = 50"
   ]
  },
  {
   "cell_type": "code",
   "execution_count": 6,
   "metadata": {},
   "outputs": [
    {
     "name": "stdout",
     "output_type": "stream",
     "text": [
      "Epoch: 0 Loss: 2.1369822025299072\n",
      "Epoch: 1 Loss: 0.5424895286560059\n",
      "Epoch: 2 Loss: 0.13058575987815857\n",
      "Epoch: 3 Loss: 0.45352333784103394\n",
      "Epoch: 4 Loss: 0.04596247524023056\n",
      "Epoch: 5 Loss: 0.0020719680469483137\n",
      "Epoch: 6 Loss: 0.28471100330352783\n",
      "Epoch: 7 Loss: 0.018979176878929138\n",
      "Epoch: 8 Loss: 0.08709370344877243\n",
      "Epoch: 9 Loss: 0.0014206921914592385\n",
      "Epoch: 10 Loss: 0.057617172598838806\n",
      "Epoch: 11 Loss: 0.000905112421605736\n",
      "Epoch: 12 Loss: 0.02385169081389904\n",
      "Epoch: 13 Loss: 0.0625230073928833\n",
      "Epoch: 14 Loss: 0.05693576857447624\n",
      "Epoch: 15 Loss: 0.12725526094436646\n",
      "Epoch: 16 Loss: 0.34307804703712463\n",
      "Epoch: 17 Loss: 0.04954332113265991\n",
      "Epoch: 18 Loss: 0.00971996784210205\n",
      "Epoch: 19 Loss: 0.013346302323043346\n",
      "Epoch: 20 Loss: 0.0019654342904686928\n",
      "Epoch: 21 Loss: 7.30238389223814e-05\n",
      "Epoch: 22 Loss: 0.031942714005708694\n",
      "Epoch: 23 Loss: 0.10170822590589523\n",
      "Epoch: 24 Loss: 0.03724360093474388\n",
      "Epoch: 25 Loss: 0.04828709736466408\n",
      "Epoch: 26 Loss: 0.00035324358032085\n",
      "Epoch: 27 Loss: 0.0019928417168557644\n",
      "Epoch: 28 Loss: 0.015712860971689224\n",
      "Epoch: 29 Loss: 0.012549018487334251\n",
      "Epoch: 30 Loss: 0.020061131566762924\n",
      "Epoch: 31 Loss: 0.00745178759098053\n",
      "Epoch: 32 Loss: 0.010024409741163254\n",
      "Epoch: 33 Loss: 0.030358286574482918\n",
      "Epoch: 34 Loss: 0.12334084510803223\n",
      "Epoch: 35 Loss: 0.15800249576568604\n",
      "Epoch: 36 Loss: 0.06510241329669952\n",
      "Epoch: 37 Loss: 0.025009222328662872\n",
      "Epoch: 38 Loss: 0.0006549915997311473\n",
      "Epoch: 39 Loss: 0.05947712063789368\n",
      "Epoch: 40 Loss: 0.42423325777053833\n",
      "Epoch: 41 Loss: 0.05390561372041702\n",
      "Epoch: 42 Loss: 0.00365870981477201\n",
      "Epoch: 43 Loss: 0.11089737713336945\n",
      "Epoch: 44 Loss: 0.0018156467704102397\n",
      "Epoch: 45 Loss: 0.025728898122906685\n",
      "Epoch: 46 Loss: 0.056756142526865005\n",
      "Epoch: 47 Loss: 0.0009082999895326793\n",
      "Epoch: 48 Loss: 0.0019659206736832857\n",
      "Epoch: 49 Loss: 0.01140503492206335\n",
      "Epoch: 50 Loss: 0.012552437372505665\n",
      "Epoch: 51 Loss: 0.047950081527233124\n",
      "Epoch: 52 Loss: 0.022919965907931328\n",
      "Epoch: 53 Loss: 0.012212642468512058\n",
      "Epoch: 54 Loss: 0.006314444821327925\n",
      "Epoch: 55 Loss: 0.03297322615981102\n",
      "Epoch: 56 Loss: 0.03966740518808365\n",
      "Epoch: 57 Loss: 0.0008349428535439074\n",
      "Epoch: 58 Loss: 0.03475044667720795\n",
      "Epoch: 59 Loss: 0.09527513384819031\n",
      "Epoch: 60 Loss: 0.0011536935344338417\n",
      "Epoch: 61 Loss: 1.3720142305828631e-05\n",
      "Epoch: 62 Loss: 0.034421008080244064\n",
      "Epoch: 63 Loss: 0.13022397458553314\n",
      "Epoch: 64 Loss: 7.03352561686188e-05\n",
      "Epoch: 65 Loss: 0.10322451591491699\n",
      "Epoch: 66 Loss: 0.0015620397171005607\n",
      "Epoch: 67 Loss: 0.05298701301217079\n",
      "Epoch: 68 Loss: 0.08996371179819107\n",
      "Epoch: 69 Loss: 0.0007176605868153274\n"
     ]
    }
   ],
   "source": [
    "for epoch in range(nb_epochs):\n",
    "    X, y = data_generator(data_size)\n",
    "    \n",
    "    epoch_loss = 0\n",
    "    \n",
    "    for ix in range(data_size):\n",
    "        y_pred = model(Variable(Tensor(X[ix])))\n",
    "        loss = critereon(y_pred, Variable(Tensor(y[ix]), requires_grad=False)) \n",
    "        # print(loss.data)    \n",
    "        epoch_loss = loss.data\n",
    "        optimizer.zero_grad()\n",
    "        loss.backward()\n",
    "        optimizer.step()\n",
    "    \n",
    "    print(\"Epoch: {} Loss: {}\".format(epoch, epoch_loss))"
   ]
  },
  {
   "cell_type": "code",
   "execution_count": 7,
   "metadata": {},
   "outputs": [
    {
     "name": "stdout",
     "output_type": "stream",
     "text": [
      "Predicted_value: 14.8004789352417\n",
      "Expected_value: [14.708027072]\n"
     ]
    }
   ],
   "source": [
    "model.eval()\n",
    "test_data = data_generator(1)\n",
    "prediction = model(Variable(Tensor(test_data[0][0])))\n",
    "print(\"Predicted_value: {}\".format(prediction.data[0]))\n",
    "print(\"Expected_value: {}\".format(test_data[1][0]))"
   ]
  }
 ],
 "metadata": {
  "kernelspec": {
   "display_name": "base",
   "language": "python",
   "name": "python3"
  },
  "language_info": {
   "codemirror_mode": {
    "name": "ipython",
    "version": 3
   },
   "file_extension": ".py",
   "mimetype": "text/x-python",
   "name": "python",
   "nbconvert_exporter": "python",
   "pygments_lexer": "ipython3",
   "version": "3.9.12"
  },
  "orig_nbformat": 4,
  "vscode": {
   "interpreter": {
    "hash": "dc07d24e2f18896857f0b2a651fe84ba40ce7b297e58d8804a308c8039f752a6"
   }
  }
 },
 "nbformat": 4,
 "nbformat_minor": 2
}
