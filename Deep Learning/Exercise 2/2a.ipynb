{
 "cells": [
  {
   "cell_type": "code",
   "execution_count": 14,
   "metadata": {},
   "outputs": [],
   "source": [
    "import torch\n",
    "from torch import Tensor\n",
    "from torch.nn import Linear, MSELoss, functional as F\n",
    "from torch.optim import SGD, Adam, RMSprop\n",
    "from torch.autograd import Variable\n",
    "import numpy as np"
   ]
  },
  {
   "cell_type": "code",
   "execution_count": 15,
   "metadata": {},
   "outputs": [],
   "source": [
    "def data_generator(data_size=50):\n",
    "    inputs = []\n",
    "    labels = []\n",
    "    for ix in range(data_size):        \n",
    "        x = np.random.randint(1000) / 1000\n",
    "        y = 7*(x*x*x) + 8*x+ 2\n",
    "        inputs.append([x])\n",
    "        labels.append([y])\n",
    "        \n",
    "    return inputs, labels"
   ]
  },
  {
   "cell_type": "code",
   "execution_count": 16,
   "metadata": {},
   "outputs": [],
   "source": [
    "class Net(torch.nn.Module):\n",
    "    def __init__(self):\n",
    "        super(Net, self).__init__()\n",
    "        self.fc1 = Linear(1, 6)\n",
    "        self.fc3 = Linear(6, 1)\n",
    "        \n",
    "    def forward(self, x):\n",
    "        x = F.relu(self.fc1(x))\n",
    "        x = self.fc3(x)\n",
    "        return x   \n",
    "model = Net()"
   ]
  },
  {
   "cell_type": "code",
   "execution_count": 17,
   "metadata": {},
   "outputs": [],
   "source": [
    "critereon = MSELoss()\n",
    "optimizer = SGD(model.parameters(), lr=0.01)\n",
    "\n",
    "nb_epochs = 70\n",
    "data_size = 50"
   ]
  },
  {
   "cell_type": "code",
   "execution_count": 18,
   "metadata": {},
   "outputs": [
    {
     "name": "stdout",
     "output_type": "stream",
     "text": [
      "Epoch: 0 Loss: 5.435754776000977\n",
      "Epoch: 1 Loss: 0.9918199777603149\n",
      "Epoch: 2 Loss: 3.503690481185913\n",
      "Epoch: 3 Loss: 9.347599983215332\n",
      "Epoch: 4 Loss: 3.2630717754364014\n",
      "Epoch: 5 Loss: 0.7809048295021057\n",
      "Epoch: 6 Loss: 1.6534538269042969\n",
      "Epoch: 7 Loss: 0.0534125380218029\n",
      "Epoch: 8 Loss: 1.5657203197479248\n",
      "Epoch: 9 Loss: 0.004434523172676563\n",
      "Epoch: 10 Loss: 0.03191033750772476\n",
      "Epoch: 11 Loss: 0.03278680890798569\n",
      "Epoch: 12 Loss: 0.1916458159685135\n",
      "Epoch: 13 Loss: 0.057674530893564224\n",
      "Epoch: 14 Loss: 0.04071212187409401\n",
      "Epoch: 15 Loss: 0.03407271206378937\n",
      "Epoch: 16 Loss: 0.0501299649477005\n",
      "Epoch: 17 Loss: 0.5628212094306946\n",
      "Epoch: 18 Loss: 0.0007979670190252364\n",
      "Epoch: 19 Loss: 0.16667339205741882\n",
      "Epoch: 20 Loss: 0.018222229555249214\n",
      "Epoch: 21 Loss: 0.044076986610889435\n",
      "Epoch: 22 Loss: 0.3247314393520355\n",
      "Epoch: 23 Loss: 0.03304287791252136\n",
      "Epoch: 24 Loss: 0.005820911843329668\n",
      "Epoch: 25 Loss: 0.2929096221923828\n",
      "Epoch: 26 Loss: 0.014962108805775642\n",
      "Epoch: 27 Loss: 0.0018261257791891694\n",
      "Epoch: 28 Loss: 0.727738618850708\n",
      "Epoch: 29 Loss: 0.055938463658094406\n",
      "Epoch: 30 Loss: 0.4112745225429535\n",
      "Epoch: 31 Loss: 0.027506593614816666\n",
      "Epoch: 32 Loss: 0.0013449490070343018\n",
      "Epoch: 33 Loss: 0.019728077575564384\n",
      "Epoch: 34 Loss: 0.0016599041409790516\n",
      "Epoch: 35 Loss: 0.15194353461265564\n",
      "Epoch: 36 Loss: 0.030918078497052193\n",
      "Epoch: 37 Loss: 0.07856202125549316\n",
      "Epoch: 38 Loss: 9.83142017503269e-05\n",
      "Epoch: 39 Loss: 0.0630936324596405\n",
      "Epoch: 40 Loss: 0.03653019294142723\n",
      "Epoch: 41 Loss: 0.028871823102235794\n",
      "Epoch: 42 Loss: 0.030508853495121002\n",
      "Epoch: 43 Loss: 0.14776144921779633\n",
      "Epoch: 44 Loss: 0.02889273129403591\n",
      "Epoch: 45 Loss: 0.08942368626594543\n",
      "Epoch: 46 Loss: 0.024306148290634155\n",
      "Epoch: 47 Loss: 0.10507822036743164\n",
      "Epoch: 48 Loss: 0.018912099301815033\n",
      "Epoch: 49 Loss: 0.015396187081933022\n",
      "Epoch: 50 Loss: 0.022371182218194008\n",
      "Epoch: 51 Loss: 0.068155936896801\n",
      "Epoch: 52 Loss: 0.10335247963666916\n",
      "Epoch: 53 Loss: 0.01479610800743103\n",
      "Epoch: 54 Loss: 0.13744385540485382\n",
      "Epoch: 55 Loss: 0.0037544509395956993\n",
      "Epoch: 56 Loss: 0.010368281975388527\n",
      "Epoch: 57 Loss: 0.13308389484882355\n",
      "Epoch: 58 Loss: 0.002171591855585575\n",
      "Epoch: 59 Loss: 0.1162729263305664\n",
      "Epoch: 60 Loss: 0.04885942488908768\n",
      "Epoch: 61 Loss: 0.05014096200466156\n",
      "Epoch: 62 Loss: 0.23483629524707794\n",
      "Epoch: 63 Loss: 0.0997643992304802\n",
      "Epoch: 64 Loss: 0.014385899528861046\n",
      "Epoch: 65 Loss: 0.11583603173494339\n",
      "Epoch: 66 Loss: 0.006126410327851772\n",
      "Epoch: 67 Loss: 0.015830833464860916\n",
      "Epoch: 68 Loss: 0.08264084160327911\n",
      "Epoch: 69 Loss: 0.10687608271837234\n"
     ]
    }
   ],
   "source": [
    "for epoch in range(nb_epochs):\n",
    "    X, y = data_generator(data_size)\n",
    "    \n",
    "    epoch_loss = 0\n",
    "    \n",
    "    for ix in range(data_size):\n",
    "        y_pred = model(Variable(Tensor(X[ix])))\n",
    "        loss = critereon(y_pred, Variable(Tensor(y[ix]), requires_grad=False))    \n",
    "        epoch_loss = loss.data\n",
    "        optimizer.zero_grad()\n",
    "        loss.backward()\n",
    "        optimizer.step()\n",
    "    \n",
    "    print(\"Epoch: {} Loss: {}\".format(epoch, epoch_loss))"
   ]
  },
  {
   "cell_type": "code",
   "execution_count": 19,
   "metadata": {},
   "outputs": [
    {
     "name": "stdout",
     "output_type": "stream",
     "text": [
      "Predicted_value: 4.941407203674316\n",
      "Expected_value: [4.728714008]\n"
     ]
    }
   ],
   "source": [
    "model.eval()\n",
    "test_data = data_generator(1)\n",
    "prediction = model(Variable(Tensor(test_data[0][0])))\n",
    "print(\"Predicted_value: {}\".format(prediction.data[0]))\n",
    "print(\"Expected_value: {}\".format(test_data[1][0]))"
   ]
  }
 ],
 "metadata": {
  "kernelspec": {
   "display_name": "base",
   "language": "python",
   "name": "python3"
  },
  "language_info": {
   "codemirror_mode": {
    "name": "ipython",
    "version": 3
   },
   "file_extension": ".py",
   "mimetype": "text/x-python",
   "name": "python",
   "nbconvert_exporter": "python",
   "pygments_lexer": "ipython3",
   "version": "3.9.12"
  },
  "orig_nbformat": 4,
  "vscode": {
   "interpreter": {
    "hash": "dc07d24e2f18896857f0b2a651fe84ba40ce7b297e58d8804a308c8039f752a6"
   }
  }
 },
 "nbformat": 4,
 "nbformat_minor": 2
}
