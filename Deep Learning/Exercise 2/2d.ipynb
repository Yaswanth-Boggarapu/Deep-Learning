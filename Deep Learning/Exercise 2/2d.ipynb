{
 "cells": [
  {
   "cell_type": "code",
   "execution_count": 1,
   "metadata": {},
   "outputs": [],
   "source": [
    "import torch\n",
    "import torch.nn as nn\n",
    "import torch.optim as optim\n",
    "from torch.utils.data import DataLoader, TensorDataset\n",
    "import matplotlib.pyplot as plt\n",
    "import numpy as np"
   ]
  },
  {
   "cell_type": "code",
   "execution_count": 2,
   "metadata": {},
   "outputs": [],
   "source": [
    "from sklearn.datasets import load_digits\n",
    "from sklearn.model_selection import train_test_split\n",
    "digits = load_digits()"
   ]
  },
  {
   "cell_type": "code",
   "execution_count": 3,
   "metadata": {},
   "outputs": [
    {
     "data": {
      "image/png": "[encoded data removed]",
      "text/plain": [
       "<Figure size 432x288 with 1 Axes>"
      ]
     },
     "metadata": {
      "needs_background": "light"
     },
     "output_type": "display_data"
    },
    {
     "data": {
      "image/png": "[encoded data removed]",
      "text/plain": [
       "<Figure size 432x288 with 1 Axes>"
      ]
     },
     "metadata": {
      "needs_background": "light"
     },
     "output_type": "display_data"
    },
    {
     "data": {
      "image/png": "[encoded data removed]",
      "text/plain": [
       "<Figure size 432x288 with 1 Axes>"
      ]
     },
     "metadata": {
      "needs_background": "light"
     },
     "output_type": "display_data"
    },
    {
     "data": {
      "image/png": "[encoded data removed]",
      "text/plain": [
       "<Figure size 432x288 with 1 Axes>"
      ]
     },
     "metadata": {
      "needs_background": "light"
     },
     "output_type": "display_data"
    },
    {
     "data": {
      "image/png": "[encoded data removed]",
      "text/plain": [
       "<Figure size 432x288 with 1 Axes>"
      ]
     },
     "metadata": {
      "needs_background": "light"
     },
     "output_type": "display_data"
    }
   ],
   "source": [
    "for i in range(5):\n",
    "    plt.imshow(digits.images[i], cmap='gray')\n",
    "    plt.title(f\"Label: {digits.target[i]}\")\n",
    "    plt.show()"
   ]
  },
  {
   "cell_type": "code",
   "execution_count": 4,
   "metadata": {},
   "outputs": [],
   "source": [
    "X = digits.images.reshape(-1, 64)\n",
    "y = digits.target\n",
    "X_train, X_test, y_train, y_test = train_test_split(X, y, test_size=0.3, random_state=42)\n",
    "train_dataset = TensorDataset(torch.tensor(X_train, dtype=torch.float32), torch.tensor(y_train, dtype=torch.long))\n",
    "test_dataset = TensorDataset(torch.tensor(X_test, dtype=torch.float32), torch.tensor(y_test, dtype=torch.long))\n",
    "train_loader = DataLoader(train_dataset, batch_size=64, shuffle=True)\n",
    "test_loader = DataLoader(test_dataset, batch_size=64, shuffle=False)"
   ]
  },
  {
   "cell_type": "code",
   "execution_count": 6,
   "metadata": {},
   "outputs": [],
   "source": [
    "class MLP(nn.Module):\n",
    "    def __init__(self):\n",
    "        super().__init__()\n",
    "        self.fc1 = nn.Linear(64, 128)\n",
    "        self.fc2 = nn.Linear(128, 10)\n",
    "        self.relu = nn.ReLU()\n",
    "        self.softmax = nn.LogSoftmax(dim=1)\n",
    "    def forward(self, x):\n",
    "        x = self.fc1(x)\n",
    "        x = self.relu(x)\n",
    "        x = self.fc2(x)\n",
    "        x = self.softmax(x)\n",
    "        return x        "
   ]
  },
  {
   "cell_type": "code",
   "execution_count": 7,
   "metadata": {},
   "outputs": [
    {
     "name": "stdout",
     "output_type": "stream",
     "text": [
      "[1] Loss: 1.4080824643373488\n",
      "[2] Loss: 0.5367497682571412\n",
      "[3] Loss: 0.3709945544600487\n",
      "[4] Loss: 0.2953339748084545\n",
      "[5] Loss: 0.24785001389682293\n",
      "[6] Loss: 0.21558745726943015\n",
      "[7] Loss: 0.19611810632050036\n",
      "[8] Loss: 0.17524719014763832\n",
      "[9] Loss: 0.16216765940189362\n",
      "[10] Loss: 0.15371301993727685\n",
      "[11] Loss: 0.14614073932170868\n",
      "[12] Loss: 0.13960909470915794\n",
      "[13] Loss: 0.13171494491398333\n",
      "[14] Loss: 0.12183772064745427\n",
      "[15] Loss: 0.11511691976338626\n",
      "[16] Loss: 0.11198174320161343\n",
      "[17] Loss: 0.10457212999463081\n",
      "[18] Loss: 0.09802863486111164\n",
      "[19] Loss: 0.09742766115814447\n",
      "[20] Loss: 0.09503919649869204\n",
      "[21] Loss: 0.08858685158193111\n",
      "[22] Loss: 0.08536227699369192\n",
      "[23] Loss: 0.08197747580707074\n",
      "[24] Loss: 0.0782926419749856\n",
      "[25] Loss: 0.07450662963092328\n",
      "[26] Loss: 0.0748405510559678\n",
      "[27] Loss: 0.06972226733341813\n",
      "[28] Loss: 0.06967702731490136\n",
      "[29] Loss: 0.06682644942775369\n",
      "[30] Loss: 0.06561992960050703\n",
      "[31] Loss: 0.061323394905775784\n",
      "[32] Loss: 0.06028544032014906\n",
      "[33] Loss: 0.058760153409093616\n",
      "[34] Loss: 0.05576289156451821\n",
      "[35] Loss: 0.05489598615095019\n",
      "[36] Loss: 0.05279611041769385\n",
      "[37] Loss: 0.053261101618409155\n",
      "[38] Loss: 0.05167973106727004\n",
      "[39] Loss: 0.04827127940952778\n",
      "[40] Loss: 0.04678921047598124\n",
      "[41] Loss: 0.04611612865701318\n",
      "[42] Loss: 0.045611771382391454\n",
      "[43] Loss: 0.04390879785642028\n",
      "[44] Loss: 0.04418961093761027\n",
      "[45] Loss: 0.042906238697469234\n",
      "[46] Loss: 0.04127165134996176\n",
      "[47] Loss: 0.04106357702985406\n",
      "[48] Loss: 0.038598541542887686\n",
      "[49] Loss: 0.03734319116920233\n",
      "[50] Loss: 0.037726825848221776\n",
      "[51] Loss: 0.03634404269978404\n",
      "[52] Loss: 0.03525433354079723\n",
      "[53] Loss: 0.034145420603454116\n",
      "[54] Loss: 0.03425469631329179\n",
      "[55] Loss: 0.03387578828260303\n",
      "[56] Loss: 0.03243950833566487\n",
      "[57] Loss: 0.0322897438891232\n",
      "[58] Loss: 0.03231693310663104\n",
      "[59] Loss: 0.03122503194026649\n",
      "[60] Loss: 0.030475554708391427\n",
      "[61] Loss: 0.02971199178136885\n",
      "[62] Loss: 0.02818045364692807\n",
      "[63] Loss: 0.02832196746021509\n",
      "[64] Loss: 0.027152884006500243\n",
      "[65] Loss: 0.027100654831156135\n",
      "[66] Loss: 0.02665485590696335\n",
      "[67] Loss: 0.027228514943271876\n",
      "[68] Loss: 0.025254380982369186\n",
      "[69] Loss: 0.02537925774231553\n",
      "[70] Loss: 0.02526980321854353\n",
      "[71] Loss: 0.024413874512538312\n",
      "[72] Loss: 0.024160685716196895\n",
      "[73] Loss: 0.023601068183779716\n",
      "[74] Loss: 0.02362900055013597\n",
      "[75] Loss: 0.022464245976880192\n",
      "[76] Loss: 0.022855856409296393\n",
      "[77] Loss: 0.022204284416511656\n",
      "[78] Loss: 0.021494059497490524\n",
      "[79] Loss: 0.021417567785829306\n",
      "[80] Loss: 0.021282768063247203\n",
      "[81] Loss: 0.021227529691532254\n",
      "[82] Loss: 0.02096386575140059\n",
      "[83] Loss: 0.020233702519908546\n",
      "[84] Loss: 0.019553627353161573\n",
      "[85] Loss: 0.019517391361296176\n",
      "[86] Loss: 0.019484657049179076\n",
      "[87] Loss: 0.019131575617939232\n",
      "[88] Loss: 0.01877159362193197\n",
      "[89] Loss: 0.01884165364317596\n",
      "[90] Loss: 0.017950013163499534\n",
      "[91] Loss: 0.01769208742771298\n",
      "[92] Loss: 0.017771973018534483\n",
      "[93] Loss: 0.01787006368394941\n",
      "[94] Loss: 0.01736128337215632\n",
      "[95] Loss: 0.01720393719151616\n",
      "[96] Loss: 0.016978884348645806\n",
      "[97] Loss: 0.016605786816217005\n",
      "[98] Loss: 0.01636545662768185\n",
      "[99] Loss: 0.01627568802796304\n",
      "[100] Loss: 0.01616077180951834\n"
     ]
    }
   ],
   "source": [
    "model = MLP()\n",
    "criterion = nn.NLLLoss()\n",
    "optimizer = optim.SGD(model.parameters(), lr=0.01)\n",
    "\n",
    "for epoch in range(100):\n",
    "    running_loss = 0.0\n",
    "    for i, data in enumerate(train_loader, 0):\n",
    "        inputs, labels = data\n",
    "        optimizer.zero_grad()\n",
    "        outputs = model(inputs)\n",
    "        loss = criterion(outputs, labels)\n",
    "        loss.backward()\n",
    "        optimizer.step()\n",
    "        running_loss += loss.item()\n",
    "    print(f\"[{epoch + 1}] Loss: {running_loss / (i + 1)}\")"
   ]
  },
  {
   "cell_type": "code",
   "execution_count": 10,
   "metadata": {},
   "outputs": [],
   "source": [
    "correct = 0\n",
    "total = 0\n",
    "with torch.no_grad():\n",
    "    for data in test_loader:\n",
    "        inputs, labels = data\n",
    "        outputs = model"
   ]
  },
  {
   "cell_type": "code",
   "execution_count": 12,
   "metadata": {},
   "outputs": [
    {
     "ename": "TypeError",
     "evalue": "only integer tensors of a single element can be converted to an index",
     "output_type": "error",
     "traceback": [
      "\u001b[1;31m---------------------------------------------------------------------------\u001b[0m",
      "\u001b[1;31mTypeError\u001b[0m                                 Traceback (most recent call last)",
      "\u001b[1;32mc:\\Users\\HP\\Desktop\\Taboo\\Sem VI\\LAB\\Deep Learning\\Deep-Learning\\Deep Learning\\Exercise 2\\2d.ipynb Cell 8\u001b[0m in \u001b[0;36m<cell line: 3>\u001b[1;34m()\u001b[0m\n\u001b[0;32m      <a href='vscode-notebook-cell:/c%3A/Users/HP/Desktop/Taboo/Sem%20VI/LAB/Deep%20Learning/Deep-Learning/Deep%20Learning/Exercise%202/2d.ipynb#X12sZmlsZQ%3D%3D?line=0'>1</a>\u001b[0m \u001b[39mimport\u001b[39;00m \u001b[39mmatplotlib\u001b[39;00m\u001b[39m.\u001b[39;00m\u001b[39mpyplot\u001b[39;00m \u001b[39mas\u001b[39;00m \u001b[39mplt\u001b[39;00m\n\u001b[1;32m----> <a href='vscode-notebook-cell:/c%3A/Users/HP/Desktop/Taboo/Sem%20VI/LAB/Deep%20Learning/Deep-Learning/Deep%20Learning/Exercise%202/2d.ipynb#X12sZmlsZQ%3D%3D?line=2'>3</a>\u001b[0m epochs \u001b[39m=\u001b[39m \u001b[39mrange\u001b[39;49m(loss)\n\u001b[0;32m      <a href='vscode-notebook-cell:/c%3A/Users/HP/Desktop/Taboo/Sem%20VI/LAB/Deep%20Learning/Deep-Learning/Deep%20Learning/Exercise%202/2d.ipynb#X12sZmlsZQ%3D%3D?line=4'>5</a>\u001b[0m plt\u001b[39m.\u001b[39mplot(epochs, \u001b[39m'\u001b[39m\u001b[39mb\u001b[39m\u001b[39m'\u001b[39m, label\u001b[39m=\u001b[39m\u001b[39m'\u001b[39m\u001b[39mTraining Loss\u001b[39m\u001b[39m'\u001b[39m)\n\u001b[0;32m      <a href='vscode-notebook-cell:/c%3A/Users/HP/Desktop/Taboo/Sem%20VI/LAB/Deep%20Learning/Deep-Learning/Deep%20Learning/Exercise%202/2d.ipynb#X12sZmlsZQ%3D%3D?line=6'>7</a>\u001b[0m plt\u001b[39m.\u001b[39mtitle(\u001b[39m'\u001b[39m\u001b[39mTraining Loss\u001b[39m\u001b[39m'\u001b[39m)\n",
      "\u001b[1;31mTypeError\u001b[0m: only integer tensors of a single element can be converted to an index"
     ]
    }
   ],
   "source": [
    "import matplotlib.pyplot as plt\n",
    "\n",
    "epochs = range(len(loss))\n",
    "\n",
    "plt.plot(epochs, 'b', label='Training Loss')\n",
    "\n",
    "plt.title('Training Loss')\n",
    "plt.xlabel('Epoch')\n",
    "plt.ylabel('Loss')\n",
    "\n",
    "plt.legend()\n",
    "\n",
    "plt.show()"
   ]
  }
 ],
 "metadata": {
  "kernelspec": {
   "display_name": "base",
   "language": "python",
   "name": "python3"
  },
  "language_info": {
   "codemirror_mode": {
    "name": "ipython",
    "version": 3
   },
   "file_extension": ".py",
   "mimetype": "text/x-python",
   "name": "python",
   "nbconvert_exporter": "python",
   "pygments_lexer": "ipython3",
   "version": "3.9.12"
  },
  "orig_nbformat": 4,
  "vscode": {
   "interpreter": {
    "hash": "dc07d24e2f18896857f0b2a651fe84ba40ce7b297e58d8804a308c8039f752a6"
   }
  }
 },
 "nbformat": 4,
 "nbformat_minor": 2
}
